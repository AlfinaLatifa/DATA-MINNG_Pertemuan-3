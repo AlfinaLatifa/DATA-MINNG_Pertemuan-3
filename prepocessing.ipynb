{
 "cells": [
  {
   "cell_type": "markdown",
   "id": "ccec8d29",
   "metadata": {},
   "source": [
    "# TUGAS PERTEMUAN 3 \n",
    "# DATA MINING PREPROCESSING\n",
    "\n",
    "**ALFINA LATIFA MAYSARA**  \n",
    "A11.2022.14143  \n",
    "**DATA MINING A11.4509**  \n",
    "Junta Zeniarja, M.Kom  \n"
   ]
  },
  {
   "cell_type": "code",
   "execution_count": null,
   "id": "c11d8a38",
   "metadata": {},
   "outputs": [],
   "source": [
    "# Import Library yang Digunakan\n",
    "import numpy as np\n",
    "import matplotlib.pyplot as plt\n",
    "import pandas as pd\n"
   ]
  },
  {
   "cell_type": "code",
   "execution_count": null,
   "id": "6ed7ace7",
   "metadata": {},
   "outputs": [],
   "source": [
    "# Import Dataset\n",
    "dataset = pd.read_csv('data.csv')\n",
    "X = dataset.iloc[:, :-1].values\n",
    "Y = dataset.iloc[:, -1].values\n",
    "\n",
    "# Display the dataset structure\n",
    "print(\"Fitur (X):\")\n",
    "print(X)\n",
    "print(\"Label (Y):\")\n",
    "print(Y)\n"
   ]
  },
  {
   "cell_type": "code",
   "execution_count": null,
   "id": "d36bb4a3",
   "metadata": {},
   "outputs": [],
   "source": [
    "# Menangani Missing Value\n",
    "from sklearn.impute import SimpleImputer\n",
    "imputer = SimpleImputer(missing_values=np.nan, strategy='mean')\n",
    "X[:, 1:3] = imputer.fit_transform(X[:, 1:3])\n",
    "\n",
    "# Tampilkan hasil setelah penanganan missing value\n",
    "print(\"Fitur setelah menangani missing values:\")\n",
    "print(X)\n"
   ]
  },
  {
   "cell_type": "code",
   "execution_count": null,
   "id": "8473eb0f",
   "metadata": {},
   "outputs": [],
   "source": [
    "# Encoding Data Kategorikal\n",
    "from sklearn.compose import ColumnTransformer\n",
    "from sklearn.preprocessing import OneHotEncoder, LabelEncoder\n",
    "\n",
    "# Encoding fitur kategorikal\n",
    "ct = ColumnTransformer(transformers=[('encoder', OneHotEncoder(), [0])], remainder='passthrough')\n",
    "X = np.array(ct.fit_transform(X))\n",
    "\n",
    "# Encoding label\n",
    "le = LabelEncoder()\n",
    "Y = le.fit_transform(Y)\n",
    "\n",
    "# Tampilkan hasil setelah encoding\n",
    "print(\"Fitur setelah encoding:\")\n",
    "print(X)\n",
    "print(\"Label setelah encoding:\")\n",
    "print(Y)\n"
   ]
  },
  {
   "cell_type": "code",
   "execution_count": null,
   "id": "f01fedfc",
   "metadata": {},
   "outputs": [],
   "source": [
    "# Membagi dataset menjadi training set dan test set\n",
    "from sklearn.model_selection import train_test_split\n",
    "X_train, X_test, Y_train, Y_test = train_test_split(X, Y, test_size=0.2, random_state=1)\n",
    "\n",
    "# Tampilkan dataset yang sudah dibagi\n",
    "print(\"Training features (X_train):\")\n",
    "print(X_train)\n",
    "print(\"Test features (X_test):\")\n",
    "print(X_test)\n",
    "print(\"Training labels (Y_train):\")\n",
    "print(Y_train)\n",
    "print(\"Test labels (Y_test):\")\n",
    "print(Y_test)\n"
   ]
  },
  {
   "cell_type": "code",
   "execution_count": null,
   "id": "a7b304be",
   "metadata": {},
   "outputs": [],
   "source": [
    "# Feature Scaling\n",
    "from sklearn.preprocessing import StandardScaler\n",
    "sc = StandardScaler()\n",
    "X_train = sc.fit_transform(X_train)\n",
    "X_test = sc.transform(X_test)\n",
    "\n",
    "# Tampilkan fitur yang telah di-scale\n",
    "print(\"Scaled training features (X_train):\")\n",
    "print(X_train)\n",
    "print(\"Scaled test features (X_test):\")\n",
    "print(X_test)\n"
   ]
  }
 ],
 "metadata": {},
 "nbformat": 4,
 "nbformat_minor": 5
}
